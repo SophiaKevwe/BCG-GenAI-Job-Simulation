{
 "cells": [
  {
   "cell_type": "code",
   "execution_count": 2,
   "id": "9a5bdb13-a1dd-482b-95ec-247d48ccf07f",
   "metadata": {},
   "outputs": [
    {
     "name": "stdin",
     "output_type": "stream",
     "text": [
      "Ask a financial question:  What was the cash flow growth for Microsoft in 2023?\n"
     ]
    },
    {
     "name": "stdout",
     "output_type": "stream",
     "text": [
      "Microsoft's cash flow growth in 2023 is 0.01%.\n"
     ]
    }
   ],
   "source": [
    "# Sample data\n",
    "data = {\n",
    "    \"COMPANIES\": [\"MICROSOFT\", \"MICROSOFT\", \"MICROSOFT\", \"TESLA\", \"TESLA\", \"TESLA\", \"APPLE\", \"APPLE\", \"APPLE\"],\n",
    "    \"TOTAL REVENUE\": [245122, 211915, 198270, 106773, 96773, 81462, 391035, 383285, 394328],\n",
    "    \"NET INCOME\": [88136, 72361, 72738, 24974, 14974, 12556, 93736, 96995, 99803],\n",
    "    \"PROFIT MARGIN (%)\": [35.955973, 34.146238, 36.686337, 23.389808, 15.473324, 15.413322, 23.971256, 25.306234, 25.309641],\n",
    "    \"DEBT-TO-ASSETS RATIO\": [0.475798, 0.499430, 0.543520, 0.256556, 0.403393, 0.442566, 0.843964, 0.823741, 0.856354],\n",
    "    \"YEARS\": [2024, 2023, 2022, 2024, 2023, 2022, 2024, 2023, 2022],\n",
    "}\n",
    "\n",
    "# Simple chatbot function\n",
    "def simple_chatbot(user_query):\n",
    "    if user_query == \"What is the total revenue for Microsoft in 2024?\":\n",
    "        return f\"Microsoft's total revenue in 2024 is {data['TOTAL REVENUE'][0]}\"\n",
    "    \n",
    "    elif user_query == \"How has Microsoft's net income changed over the last year?\":\n",
    "        change = (data['NET INCOME'][0] - data['NET INCOME'][1]) / data['NET INCOME'][1] * 100\n",
    "        return f\"Microsoft's net income has changed by {change:.2f}% from 2023 to 2024.\"\n",
    "    \n",
    "    elif user_query == \"What is the profit margin for Tesla in 2023?\":\n",
    "        return f\"Tesla's profit margin in 2023 is {data['PROFIT MARGIN (%)'][4]:.2f}%.\"\n",
    "    \n",
    "    elif user_query == \"What is the debt-to-assets ratio for Apple in 2022?\":\n",
    "        return f\"Apple's debt-to-assets ratio in 2022 is {data['DEBT-TO-ASSETS RATIO'][6]:.6f}.\"\n",
    "    \n",
    "    elif user_query == \"How has Tesla's total revenue changed from 2022 to 2023?\":\n",
    "        change = (data['TOTAL REVENUE'][3] - data['TOTAL REVENUE'][4]) / data['TOTAL REVENUE'][4] * 100\n",
    "        return f\"Tesla's total revenue changed by {change:.2f}% from 2022 to 2023.\"\n",
    "    \n",
    "    elif user_query == \"What is the revenue growth percentage for Microsoft in 2023?\":\n",
    "        return f\"Microsoft's revenue growth in 2023 is {data['TOTAL REVENUE'][1] / data['TOTAL REVENUE'][2] - 1:.2f}%.\"\n",
    "    \n",
    "    elif user_query == \"What was Apple's net income in 2023?\":\n",
    "        return f\"Apple's net income in 2023 was {data['NET INCOME'][7]}.\"\n",
    "    \n",
    "    elif user_query == \"How much did Tesla's total assets grow from 2022 to 2023?\":\n",
    "        change = (data['TOTAL REVENUE'][4] - data['TOTAL REVENUE'][5]) / data['TOTAL REVENUE'][5] * 100\n",
    "        return f\"Tesla's total assets grew by {change:.2f}% from 2022 to 2023.\"\n",
    "    \n",
    "    elif user_query == \"What is the net income growth percentage for Apple in 2023?\":\n",
    "        return f\"Apple's net income growth in 2023 is {data['NET INCOME'][7] / data['NET INCOME'][6] - 1:.2f}%.\"\n",
    "    \n",
    "    elif user_query == \"What was the cash flow growth for Microsoft in 2023?\":\n",
    "        return f\"Microsoft's cash flow growth in 2023 is {data['NET INCOME'][2] / data['NET INCOME'][1] - 1:.2f}%.\"\n",
    "    \n",
    "    else:\n",
    "        return \"Sorry, I can only provide information on predefined queries.\"\n",
    "\n",
    "# Testing the chatbot\n",
    "user_query = input(\"Ask a financial question: \")\n",
    "print(simple_chatbot(user_query))\n"
   ]
  },
  {
   "cell_type": "markdown",
   "id": "501dddbc-bdfe-48c5-bae5-908a6c8d8a69",
   "metadata": {},
   "source": [
    "# Documentation"
   ]
  },
  {
   "cell_type": "markdown",
   "id": "cf4c98ee-3d1b-4bc3-bda8-537965600325",
   "metadata": {},
   "source": [
    "\n",
    "Summary: This chatbot is designed to respond to financial queries based on a dataset of company financials. The chatbot provides answers to predefined queries about total revenue, net income changes, profit margins, and debt-to-assets ratios.\n",
    "\n",
    "Sample Predefined Queries:\n",
    "\"What is the total revenue for Microsoft in 2024?\"\n",
    "\"What is the profit margin for Tesla in 2023?\"\n",
    "\"What is the net income growth percentage for Apple in 2023?\"\n",
    "\n",
    "How It Works:\n",
    "\n",
    "The chatbot takes user input and matches it with predefined queries.\n",
    "If a match is found, it returns the corresponding response with financial data.\n",
    "If the query is not recognized, it returns a message indicating that only predefined queries are supported.\n",
    "Limitations:\n",
    "\n",
    "The chatbot can only answer the predefined queries that have been mapped.\n",
    "The responses are based on the static data provided in the example, so it does not dynamically fetch or update financial data."
   ]
  },
  {
   "cell_type": "code",
   "execution_count": null,
   "id": "7455bde9-20bf-41c1-9289-88bea9c84467",
   "metadata": {},
   "outputs": [],
   "source": []
  }
 ],
 "metadata": {
  "kernelspec": {
   "display_name": "Python 3 (ipykernel)",
   "language": "python",
   "name": "python3"
  },
  "language_info": {
   "codemirror_mode": {
    "name": "ipython",
    "version": 3
   },
   "file_extension": ".py",
   "mimetype": "text/x-python",
   "name": "python",
   "nbconvert_exporter": "python",
   "pygments_lexer": "ipython3",
   "version": "3.12.3"
  }
 },
 "nbformat": 4,
 "nbformat_minor": 5
}
